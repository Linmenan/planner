{
 "cells": [
  {
   "cell_type": "code",
   "execution_count": 1,
   "id": "5bc51645-22e7-4568-b1e1-bd9767ad3ea8",
   "metadata": {},
   "outputs": [
    {
     "ename": "ModuleNotFoundError",
     "evalue": "No module named 'tensorrt'",
     "output_type": "error",
     "traceback": [
      "\u001b[0;31m---------------------------------------------------------------------------\u001b[0m",
      "\u001b[0;31mModuleNotFoundError\u001b[0m                       Traceback (most recent call last)",
      "Cell \u001b[0;32mIn[1], line 1\u001b[0m\n\u001b[0;32m----> 1\u001b[0m \u001b[38;5;28;01mimport\u001b[39;00m\u001b[38;5;250m \u001b[39m\u001b[38;5;21;01mtensorrt\u001b[39;00m\u001b[38;5;250m \u001b[39m\u001b[38;5;28;01mas\u001b[39;00m\u001b[38;5;250m \u001b[39m\u001b[38;5;21;01mtrt\u001b[39;00m\n\u001b[1;32m      2\u001b[0m \u001b[38;5;28;01mimport\u001b[39;00m\u001b[38;5;250m \u001b[39m\u001b[38;5;21;01mpycuda\u001b[39;00m\u001b[38;5;21;01m.\u001b[39;00m\u001b[38;5;21;01mdriver\u001b[39;00m\u001b[38;5;250m \u001b[39m\u001b[38;5;28;01mas\u001b[39;00m\u001b[38;5;250m \u001b[39m\u001b[38;5;21;01mcuda\u001b[39;00m\n\u001b[1;32m      3\u001b[0m \u001b[38;5;28;01mimport\u001b[39;00m\u001b[38;5;250m \u001b[39m\u001b[38;5;21;01mpycuda\u001b[39;00m\u001b[38;5;21;01m.\u001b[39;00m\u001b[38;5;21;01mautoinit\u001b[39;00m  \u001b[38;5;66;03m# 自动初始化 CUDA 驱动\u001b[39;00m\n",
      "\u001b[0;31mModuleNotFoundError\u001b[0m: No module named 'tensorrt'"
     ]
    }
   ],
   "source": [
    "import tensorrt as trt\n",
    "import pycuda.driver as cuda\n",
    "import pycuda.autoinit  # 自动初始化 CUDA 驱动\n",
    "\n",
    "# 日志记录器\n",
    "TRT_LOGGER = trt.Logger(trt.Logger.WARNING)\n",
    "\n",
    "# 指定显式批处理模式\n",
    "EXPLICIT_BATCH = 1 << (int)(trt.NetworkDefinitionCreationFlag.EXPLICIT_BATCH)\n",
    "\n",
    "def build_engine(onnx_file_path, engine_file_path, max_workspace_size=1<<30):\n",
    "    with trt.Builder(TRT_LOGGER) as builder, \\\n",
    "         builder.create_network(EXPLICIT_BATCH) as network, \\\n",
    "         trt.OnnxParser(network, TRT_LOGGER) as parser:\n",
    "        \n",
    "        builder.max_workspace_size = max_workspace_size  # 分配最大工作空间大小\n",
    "\n",
    "        # 读取 ONNX 模型文件\n",
    "        with open(onnx_file_path, \"rb\") as model:\n",
    "            if not parser.parse(model.read()):\n",
    "                print(\"解析 ONNX 模型失败:\")\n",
    "                for error in range(parser.num_errors):\n",
    "                    print(parser.get_error(error))\n",
    "                return None\n",
    "\n",
    "        # 构建 engine\n",
    "        engine = builder.build_cuda_engine(network)\n",
    "        if engine is None:\n",
    "            print(\"构建 engine 失败\")\n",
    "            return None\n",
    "\n",
    "        # 序列化 engine 到文件\n",
    "        with open(engine_file_path, \"wb\") as f:\n",
    "            f.write(engine.serialize())\n",
    "        print(\"Engine 已保存到:\", engine_file_path)\n",
    "        return engine\n",
    "\n",
    "if __name__ == \"__main__\":\n",
    "    onnx_path = \"/home/bydguikong/yy_ws/PlanScope/onnx/model.onnx\"       # ONNX 模型路径\n",
    "    engine_path = \"/home/bydguikong/yy_ws/PlanScope/onnx/model.engine\"   # 输出的 TensorRT engine 文件路径\n",
    "    build_engine(onnx_path, engine_path)\n"
   ]
  }
 ],
 "metadata": {
  "kernelspec": {
   "display_name": "planscope",
   "language": "python",
   "name": "planscope"
  },
  "language_info": {
   "codemirror_mode": {
    "name": "ipython",
    "version": 3
   },
   "file_extension": ".py",
   "mimetype": "text/x-python",
   "name": "python",
   "nbconvert_exporter": "python",
   "pygments_lexer": "ipython3",
   "version": "3.9.21"
  }
 },
 "nbformat": 4,
 "nbformat_minor": 5
}
