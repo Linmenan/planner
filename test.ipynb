{
 "cells": [
  {
   "cell_type": "code",
   "execution_count": 1,
   "id": "123c48b7-656b-4fe7-a06a-c885f97f2a1b",
   "metadata": {},
   "outputs": [],
   "source": [
    "import os\n",
    "import torch\n",
    "import onnx\n",
    "from pathlib import Path\n",
    "import numpy as np\n",
    "import torch.nn as nn\n"
   ]
  },
  {
   "cell_type": "code",
   "execution_count": 2,
   "id": "f8d06f74-1825-4317-9d4c-053ad1d889dd",
   "metadata": {},
   "outputs": [],
   "source": [
    "class ConvTokenizer(nn.Module):\n",
    "    def __init__(self, in_chans=3, embed_dim=32, norm_layer=None):\n",
    "        super().__init__()\n",
    "        self.proj = nn.Conv1d(in_chans, embed_dim, kernel_size=3, stride=1, padding=1)\n",
    "        print(\"in_chans = \",in_chans)\n",
    "        print(\"embed_dim = \",embed_dim)\n",
    "\n",
    "        if norm_layer is not None:\n",
    "            self.norm = norm_layer(embed_dim)\n",
    "        else:\n",
    "            self.norm = None\n",
    "\n",
    "    def forward(self, x):\n",
    "        print(\"forward forward forward forward forward forward\")\n",
    "        print(\"!!!!!!!!!!!!!!!!!!!!!!!!!!!!!x.type\",type(x))\n",
    "        # print(\"!!!!!!!!!!!!!!!!!!!!!!!!!!!!!x\",x)\n",
    "        print(\"!!!!!!!!!!!!!!!!!!!!!!!!!!!!!x.size()\",x.size())\n",
    "        print(\"1111111111111111111111111111111111111111111111\")\n",
    "        x = self.proj(x).permute(0, 2, 1)  # B, C, L -> B, L, C\n",
    "        print(\"2222222222222222222222222222222222222222222222\")\n",
    "        if self.norm is not None:\n",
    "            x = self.norm(x)\n",
    "        return x\n",
    "    "
   ]
  },
  {
   "cell_type": "code",
   "execution_count": 3,
   "id": "4f5f4796-5b36-41e5-bd2b-62259be0a71f",
   "metadata": {},
   "outputs": [
    {
     "name": "stdout",
     "output_type": "stream",
     "text": [
      "in_chans =  9\n",
      "embed_dim =  32\n",
      "forward forward forward forward forward forward\n",
      "!!!!!!!!!!!!!!!!!!!!!!!!!!!!!x.type <class 'torch.Tensor'>\n",
      "!!!!!!!!!!!!!!!!!!!!!!!!!!!!!x.size() torch.Size([1, 9, 20])\n",
      "1111111111111111111111111111111111111111111111\n",
      "2222222222222222222222222222222222222222222222\n",
      "torch.Size([1, 20, 32])\n"
     ]
    }
   ],
   "source": [
    "device = torch.device(\"cuda\" if torch.cuda.is_available() else \"cpu\")\n",
    "x = torch.randn(1, 9, 20, device=device)\n",
    "embed = ConvTokenizer(9, 32)\n",
    "embed.to(device)\n",
    "y = embed(x)\n",
    "print(y.size())"
   ]
  },
  {
   "cell_type": "code",
   "execution_count": 4,
   "id": "ee0642b7-5c32-49ea-9d2a-155642c5f816",
   "metadata": {},
   "outputs": [
    {
     "name": "stdout",
     "output_type": "stream",
     "text": [
      "/home/bydguikong/yy_ws/nuplan-devkit/nuplan/planning/simulation/planner/abstract_planner.py\n"
     ]
    }
   ],
   "source": [
    "import inspect\n",
    "from nuplan.planning.simulation.planner.abstract_planner import (\n",
    "    AbstractPlanner,\n",
    "    PlannerInitialization,\n",
    "    PlannerInput,\n",
    "    PlannerReport,\n",
    ")\n",
    "print(inspect.getfile(AbstractPlanner))"
   ]
  },
  {
   "cell_type": "code",
   "execution_count": null,
   "id": "8324d077-38f7-4ec5-8efa-6c7b53186d39",
   "metadata": {},
   "outputs": [],
   "source": []
  }
 ],
 "metadata": {
  "kernelspec": {
   "display_name": "Python 3 (ipykernel)",
   "language": "python",
   "name": "python3"
  },
  "language_info": {
   "codemirror_mode": {
    "name": "ipython",
    "version": 3
   },
   "file_extension": ".py",
   "mimetype": "text/x-python",
   "name": "python",
   "nbconvert_exporter": "python",
   "pygments_lexer": "ipython3",
   "version": "3.9.21"
  }
 },
 "nbformat": 4,
 "nbformat_minor": 5
}
