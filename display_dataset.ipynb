{
 "cells": [
  {
   "cell_type": "code",
   "execution_count": null,
   "id": "9441e5af-c6de-4e3f-adb1-4c4d688dba00",
   "metadata": {},
   "outputs": [],
   "source": [
    "from bokeh.io import output_notebook\n",
    "output_notebook()\n",
    "\n",
    "import nuplan.common.utils.io_utils as io_utils\n",
    "def save_buffer_sync(output_path, buf):\n",
    "    \"\"\"\n",
    "    同步将缓冲区内容写入文件。\n",
    "    这里直接采用 Python 内置的文件写操作，避免使用异步I/O。\n",
    "    \"\"\"\n",
    "    with open(output_path, \"wb\") as f:\n",
    "        f.write(buf)\n",
    "\n",
    "# 用同步版本替换原有的 save_buffer\n",
    "io_utils.save_buffer = save_buffer_sync\n",
    "\n",
    "scene_data = None\n",
    "import sys\n",
    "path_to_add = '/home/bydguikong/yy_ws/nuplan-devkit'\n",
    "# 检查路径是否在 sys.path 中，如果不在则添加\n",
    "if path_to_add not in sys.path:\n",
    "    sys.path.insert(0, path_to_add)  # 插入到列表头部，优先级较高\n",
    "    print(f\"路径 {path_to_add} 已添加到 sys.path\")\n",
    "else:\n",
    "    print(f\"路径 {path_to_add} 已经存在于 sys.path 中\")\n",
    "# print(sys.path)\n",
    "import os\n",
    "import matplotlib.pyplot as plt\n",
    "NUPLAN_DATA_ROOT = os.getenv('NUPLAN_DATA_ROOT', '/data/sets/nuplan')\n",
    "NUPLAN_MAPS_ROOT = os.getenv('NUPLAN_MAPS_ROOT', '/data/sets/nuplan/maps')\n",
    "NUPLAN_DB_FILES = os.getenv('NUPLAN_DB_FILES', '/data/sets/nuplan/nuplan-v1.1/splits/mini')\n",
    "NUPLAN_MAP_VERSION = os.getenv('NUPLAN_MAP_VERSION', 'nuplan-maps-v1.0')\n",
    "\n",
    "from tutorials.utils.tutorial_utils import *\n",
    "\n",
    "# visualize_nuplan_scenarios(\n",
    "#     data_root=NUPLAN_DATA_ROOT,\n",
    "#     db_files=NUPLAN_DB_FILES,\n",
    "#     map_root=NUPLAN_MAPS_ROOT,\n",
    "#     map_version=NUPLAN_MAP_VERSION,\n",
    "#     bokeh_port=8888\n",
    "# )\n",
    "\n",
    "visualize_nuplan_scenarios_inline(\n",
    "    data_root=NUPLAN_DATA_ROOT,\n",
    "    db_files=NUPLAN_DB_FILES,\n",
    "    map_root=NUPLAN_MAPS_ROOT,\n",
    "    map_version=NUPLAN_MAP_VERSION,\n",
    ")"
   ]
  },
  {
   "cell_type": "code",
   "execution_count": null,
   "id": "6c01485a-ceae-4a70-9b02-f3f29b9462b1",
   "metadata": {},
   "outputs": [],
   "source": [
    "from tutorials.utils.tutorial_utils import *\n",
    "import os\n",
    "NUPLAN_DATA_ROOT = os.getenv('NUPLAN_DATA_ROOT', '/data/sets/nuplan')\n",
    "NUPLAN_MAPS_ROOT = os.getenv('NUPLAN_MAPS_ROOT', '/data/sets/nuplan/maps')\n",
    "NUPLAN_DB_FILES = os.getenv('NUPLAN_DB_FILES', '/data/sets/nuplan/nuplan-v1.1/splits/mini')\n",
    "NUPLAN_MAP_VERSION = os.getenv('NUPLAN_MAP_VERSION', 'nuplan-maps-v1.0')\n",
    "scene_data = get_scene_data_by_token(\n",
    "    data_root=NUPLAN_DATA_ROOT,\n",
    "    db_files=NUPLAN_DB_FILES,\n",
    "    map_root=NUPLAN_MAPS_ROOT,\n",
    "    map_version=NUPLAN_MAP_VERSION,\n",
    "    token=\"7d4aa7dcc14655a3\",\n",
    ")\n",
    "print(f\"场景:{scene_data}\")"
   ]
  }
 ],
 "metadata": {
  "kernelspec": {
   "display_name": "Python 3 (ipykernel)",
   "language": "python",
   "name": "python3"
  },
  "language_info": {
   "codemirror_mode": {
    "name": "ipython",
    "version": 3
   },
   "file_extension": ".py",
   "mimetype": "text/x-python",
   "name": "python",
   "nbconvert_exporter": "python",
   "pygments_lexer": "ipython3",
   "version": "3.9.21"
  }
 },
 "nbformat": 4,
 "nbformat_minor": 5
}
